{
 "cells": [
  {
   "cell_type": "code",
   "execution_count": 3,
   "id": "bf82b7bc-517f-4f00-af1d-05d5569a0c13",
   "metadata": {},
   "outputs": [],
   "source": [
    "import google.generativeai as genai\n",
    "import google.ai.generativelanguage as glm\n",
    "import os\n",
    "from dotenv import load_dotenv\n",
    "\n",
    "load_dotenv()\n",
    "genai.configure(api_key=os.getenv(\"GEMINI_API_KEY\"))"
   ]
  },
  {
   "cell_type": "code",
   "execution_count": 4,
   "id": "25946522-ccc0-403a-b472-e83918cb5a51",
   "metadata": {},
   "outputs": [],
   "source": [
    "menu_database = { \n",
    "    \"아메리카노\": {\"재고\": 10, \"가격\": 5000}, \n",
    "    \"카페라떼\"  : {\"재고\": 10, \"가격\": 6000}, \n",
    "    \"바닐라라떼\": {\"재고\": 10, \"가격\": 6000}, \n",
    "    \"카라멜마끼아또\": {\"재고\": 10, \"가격\": 6500},\n",
    "    \"돌체라떼\": {\"재고\": 10, \"가격\": 7500}, \n",
    "} "
   ]
  },
  {
   "cell_type": "code",
   "execution_count": 15,
   "id": "9a4a24b4-974d-4a61-97ac-602092499ef9",
   "metadata": {},
   "outputs": [],
   "source": [
    "def is_drink_available(drink_name: str)-> bool: \n",
    "    \"\"\"음료가 주문 가능한지 확인한다.\n",
    "\n",
    "    Args:\n",
    "        drink_name: 음료명\n",
    "    \"\"\"\n",
    "\n",
    "    if drink_name in menu_database: \n",
    "        if menu_database[drink_name][\"재고\"] > 0: \n",
    "            return True \n",
    "    return False \n",
    "\n",
    "def get_drink_price(drink_name: str)-> int: \n",
    "    \"\"\"음료의 가격을 가져온다.\n",
    "\n",
    "    Args:\n",
    "        drink_name: 음료명\n",
    "    \"\"\"\n",
    "    if drink_name in menu_database: \n",
    "        return menu_database[drink_name][\"가격\"] \n",
    "    return None \n",
    "\n",
    "def place_order(drink_name: str, address: str)-> str: \n",
    "    \"\"\"음료 주문결과를 반환한다.\n",
    "    Args:\n",
    "        drink_name: 음료명\n",
    "        address: 배송지\n",
    "    \"\"\"\n",
    "    if is_drink_available(drink_name): \n",
    "        menu_database[drink_name][\"재고\"] -= 1 \n",
    "        return \"주문 완료\" \n",
    "    else: \n",
    "        return \"재고 부족으로 주문 불가\" \n",
    "\n",
    "function_repoistory = {     \n",
    "    \"is_drink_available\": is_drink_available, \n",
    "    \"get_drink_price\": get_drink_price, \n",
    "    \"place_order\": place_order \n",
    "} \n",
    "\n",
    "# function_repoistory = [is_drink_available, get_drink_price, place_order]"
   ]
  },
  {
   "cell_type": "code",
   "execution_count": 16,
   "id": "da73c850-242d-4994-9a85-86c9986faa5f",
   "metadata": {},
   "outputs": [],
   "source": [
    "def correct_response(response): \n",
    "    part = response.candidates[0].content.parts[0] \n",
    "    if part.function_call: \n",
    "        for k, v in part.function_call.args.items(): \n",
    "            byte_v = bytes(v, \"utf-8\").decode(\"unicode_escape\") \n",
    "            corrected_v = bytes(byte_v, \"latin1\").decode(\"utf-8\") \n",
    "            part.function_call.args.update({k:  corrected_v}) "
   ]
  },
  {
   "cell_type": "code",
   "execution_count": 17,
   "id": "5d955db0-4277-4847-b993-136a94dddb34",
   "metadata": {},
   "outputs": [],
   "source": [
    "model = genai.GenerativeModel(\n",
    "    model_name=\"gemini-1.5-flash\", \n",
    "    tools=function_repoistory.values()\n",
    "    # tools = function_repoistory\n",
    ")\n",
    "\n",
    "chat_session = model.start_chat(history=[])"
   ]
  },
  {
   "cell_type": "code",
   "execution_count": 9,
   "id": "6b016687",
   "metadata": {},
   "outputs": [
    {
     "data": {
      "text/plain": [
       "[<function __main__.is_drink_available(drink_name: str) -> bool>,\n",
       " <function __main__.get_drink_price(drink_name: str) -> int>,\n",
       " <function __main__.place_order(drink_name: str, address: str) -> str>]"
      ]
     },
     "execution_count": 9,
     "metadata": {},
     "output_type": "execute_result"
    }
   ],
   "source": [
    "function_repoistory"
   ]
  },
  {
   "cell_type": "code",
   "execution_count": 18,
   "id": "c25a0420",
   "metadata": {},
   "outputs": [
    {
     "data": {
      "text/plain": [
       "dict_values([<function is_drink_available at 0x000001C524394280>, <function get_drink_price at 0x000001C524575B40>, <function place_order at 0x000001C524575D80>])"
      ]
     },
     "execution_count": 18,
     "metadata": {},
     "output_type": "execute_result"
    }
   ],
   "source": [
    "function_repoistory.values()"
   ]
  },
  {
   "cell_type": "code",
   "execution_count": 19,
   "id": "a98142f3-8007-4c66-807d-27c9d9965af1",
   "metadata": {},
   "outputs": [],
   "source": [
    "queries = []\n",
    "queries.append(\"아메리카노 한 잔 주문 가능한가요?\")\n",
    "queries.append(\"아메리카노 가격이 어떻게 되나요?\")\n",
    "queries.append(\"강동 청년취업사관학교 5층으로 배송부탁드립니다\")             "
   ]
  },
  {
   "cell_type": "code",
   "execution_count": 20,
   "id": "b7289e34-a8ea-44b9-a518-d7d8fcbfe274",
   "metadata": {},
   "outputs": [
    {
     "data": {
      "text/plain": [
       "['아메리카노 한 잔 주문 가능한가요?', '아메리카노 가격이 어떻게 되나요?', '강동 청년취업사관학교 5층으로 배송부탁드립니다']"
      ]
     },
     "execution_count": 20,
     "metadata": {},
     "output_type": "execute_result"
    }
   ],
   "source": [
    "queries"
   ]
  },
  {
   "cell_type": "code",
   "execution_count": 31,
   "id": "cbbd1d94-178e-40cd-a0e8-57561a41128f",
   "metadata": {},
   "outputs": [],
   "source": [
    "#response = chat_session.send_message(queries[0]) "
   ]
  },
  {
   "cell_type": "code",
   "execution_count": 32,
   "id": "6325f1af-24d6-4ba3-af9c-fa64f3e4a880",
   "metadata": {},
   "outputs": [],
   "source": [
    "#response.candidates[0].content.parts[0].function_call"
   ]
  },
  {
   "cell_type": "code",
   "execution_count": 21,
   "id": "78eb0477-e758-4bd1-9081-c87de405a9f1",
   "metadata": {},
   "outputs": [],
   "source": [
    "def run_chat():\n",
    "    for query in queries: \n",
    "        print(f\"\\n사용자: {query}\")     \n",
    "        # prompt입력\n",
    "        response = chat_session.send_message(query) \n",
    "        correct_response(response) \n",
    "        part = response.candidates[0].content.parts[0] \n",
    "    \n",
    "        if part.function_call: \n",
    "            function_call =  part.function_call \n",
    "            function_name = function_call.name \n",
    "            function_args = {k: v for k, v in function_call.args.items()} \n",
    "            function_result = function_repoistory[function_name](**function_args) \n",
    "            part = glm.Part(\n",
    "                    function_response=glm.FunctionResponse(\n",
    "                        name=function_name, \n",
    "                        response={ \n",
    "                            \"content\": function_result, \n",
    "                        }, \n",
    "                    )\n",
    "                )\n",
    "            response = chat_session.send_message(part)\n",
    "            print(f\"직원: {response.candidates[0].content.parts[0].text}\")"
   ]
  },
  {
   "cell_type": "code",
   "execution_count": 22,
   "id": "2e2d0d33-7a6f-4dab-ba5a-e26a7742d2cf",
   "metadata": {},
   "outputs": [
    {
     "name": "stdout",
     "output_type": "stream",
     "text": [
      "\n",
      "사용자: 아메리카노 한 잔 주문 가능한가요?\n",
      "직원: 네, 가능합니다.  \n",
      "\n",
      "\n",
      "사용자: 아메리카노 가격이 어떻게 되나요?\n",
      "직원: 아메리카노 가격은 5000원 입니다. \n",
      "\n",
      "\n",
      "사용자: 강동 청년취업사관학교 5층으로 배송부탁드립니다\n",
      "직원: 주문 완료되었습니다.  \n",
      "강동 청년취업사관학교 5층으로 배송해 드리겠습니다. \n",
      "\n"
     ]
    }
   ],
   "source": [
    "run_chat()"
   ]
  },
  {
   "cell_type": "code",
   "execution_count": 19,
   "id": "b642f92d-2837-4e65-98c3-6ca026ac1f55",
   "metadata": {},
   "outputs": [],
   "source": [
    "queries = []\n",
    "queries.append(\"아메리카노 20 잔 주문 가능한가요?\")\n",
    "queries.append(\"아메리카노 가격이 어떻게 되나요?\")\n",
    "queries.append(\"강동 청년취업사관학교 5층으로 배송부탁드립니다\")  "
   ]
  },
  {
   "cell_type": "code",
   "execution_count": null,
   "id": "fb5a52b5-0b7c-4161-80c0-4730e3c9d921",
   "metadata": {},
   "outputs": [],
   "source": []
  }
 ],
 "metadata": {
  "kernelspec": {
   "display_name": "streamlit",
   "language": "python",
   "name": "python3"
  },
  "language_info": {
   "codemirror_mode": {
    "name": "ipython",
    "version": 3
   },
   "file_extension": ".py",
   "mimetype": "text/x-python",
   "name": "python",
   "nbconvert_exporter": "python",
   "pygments_lexer": "ipython3",
   "version": "3.10.15"
  }
 },
 "nbformat": 4,
 "nbformat_minor": 5
}
