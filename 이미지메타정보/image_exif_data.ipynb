{
 "cells": [
  {
   "cell_type": "markdown",
   "id": "b9893ea4-c022-4f59-baab-199131a60003",
   "metadata": {},
   "source": [
    "## **사진에서 필요한 EXIF 데이터 추출하기**"
   ]
  },
  {
   "cell_type": "markdown",
   "id": "ba97776c-349e-4174-9e1e-9fc933b14240",
   "metadata": {},
   "source": [
    "**EXIF**(Exchangeable Image File Format) 데이터는 디지털 카메라나 스마트폰 등으로 사진을 찍을 때 자동으로 생성되어 이미지 파일에 포함되는 메타데이터입니다. EXIF 메타데이터는 사진의 다양한 정보(촬영 환경, 카메라 설정 등)를 담고 있어 이미지의 속성이나 촬영 상황을 자세히 알 수 있게 해줍니다. \n",
    "\n",
    "EXIF 데이터는 일반적으로 다음과 같은 정보를 포함합니다.\n",
    "\n",
    "#### 1. **기본 정보**\n",
    "   - **이미지 해상도**: 이미지의 가로 및 세로 크기 (픽셀 단위)\n",
    "   - **파일 크기**: 이미지 파일의 용량\n",
    "   - **이미지 형식**: JPEG, PNG 등 파일 포맷\n",
    "\n",
    "#### 2. **카메라 정보**\n",
    "   - **카메라 제조사** 및 **모델**: 사진을 촬영한 카메라나 스마트폰의 제조사 및 모델 정보\n",
    "   - **렌즈 정보**: 사용된 렌즈의 정보\n",
    "\n",
    "#### 3. **촬영 설정**\n",
    "   - **ISO 감도**: 이미지 센서의 감도 (빛에 대한 민감도)\n",
    "   - **셔터 속도**: 셔터가 열려 있는 시간 (노출 시간)\n",
    "   - **조리개 값 (Aperture)**: 렌즈의 조리개 설정 값 (F값)\n",
    "   - **초점 거리**: 사용된 렌즈의 초점 거리 (mm 단위)\n",
    "\n",
    "#### 4. **날짜 및 시간 정보**\n",
    "   - **촬영 일시**: 사진을 촬영한 날짜와 시간\n",
    "   - **파일 수정 일시**: 사진 파일이 마지막으로 수정된 날짜와 시간\n",
    "\n",
    "#### 5. **위치 정보 (GPS)**\n",
    "   - **위도, 경도**: 촬영된 위치의 좌표 (GPS가 활성화된 경우)\n",
    "   - **고도**: 촬영된 위치의 고도 정보\n",
    "   - **방향**: 카메라가 향하고 있는 방향 (방위각)\n",
    "\n",
    "#### 6. **기타 정보**\n",
    "   - **화이트 밸런스**: 화이트 밸런스 설정 (자동 또는 수동)\n",
    "   - **플래시 사용 여부**: 플래시가 사용되었는지 여부\n",
    "   - **사진 방향**: 사진이 가로로 촬영되었는지, 세로로 촬영되었는지 등 회전 정보\n",
    "\n",
    "#### **EXIF 데이터 활용**\n",
    "EXIF 데이터는 이미지 편집 프로그램이나 이미지 관리 소프트웨어에서 쉽게 확인할 수 있으며, 이를 통해 사진이 촬영된 환경이나 설정을 분석하고 보정할 수 있습니다. 또한, 위치 정보(GPS 데이터)를 포함한 경우, 사진이 촬영된 장소를 지도에서 확인하거나 사진을 시간 및 위치에 따라 정리하는 데 활용할 수 있습니다.\n",
    "\n",
    "#### **EXIF 데이터 보기와 수정**\n",
    "EXIF 데이터는 여러 프로그램에서 확인할 수 있으며, 일부는 Python 등 프로그래밍 언어를 통해서도 확인하거나 수정할 수 있습니다. Python에서는 `Pillow`, `exifread`와 같은 라이브러리를 사용하여 EXIF 데이터를 쉽게 확인할 수 있습니다. \n",
    "\n",
    "#### **주의사항**\n",
    "EXIF 데이터에는 개인 정보가 포함될 수 있습니다. 특히 GPS 위치 정보가 포함된 경우, 사진이 촬영된 장소가 공개될 수 있으므로 인터넷에 사진을 업로드할 때는 주의가 필요합니다."
   ]
  },
  {
   "cell_type": "code",
   "execution_count": 23,
   "id": "24fbec8c-c442-4711-af5c-3616c767f92f",
   "metadata": {},
   "outputs": [],
   "source": [
    "import requests\n",
    "from PIL import Image\n",
    "from PIL.ExifTags import TAGS, GPSTAGS\n",
    "import os\n",
    "import json\n",
    "from dotenv import load_dotenv\n",
    "\n",
    "load_dotenv()\n",
    "\n",
    "# 이미지 파일 경로\n",
    "basePath = 'C:/Users/SBA/NLP/이미지메타정보'\n",
    "image_path = os.path.join(basePath, 'images/KakaoTalk_20241112_093228427.jpg')\n",
    "output_path = os.path.join(basePath, 'ai-meta/image_metadata.txt')"
   ]
  },
  {
   "cell_type": "code",
   "execution_count": 24,
   "id": "8570a573-1004-463e-9d95-de6d10736fa9",
   "metadata": {},
   "outputs": [],
   "source": [
    "# exif의 모든 데이터를 다 뽑아보자!\n",
    "def get_image_all_metadata(image_path):\n",
    "    # 이미지 파일 열기\n",
    "    image = Image.open(image_path)\n",
    "    metadata = {}\n",
    "    \n",
    "    # EXIF 데이터 추출\n",
    "    exif_data = image._getexif()\n",
    "    if exif_data:\n",
    "        for tag_id, value in exif_data.items():\n",
    "            # 태그 ID를 사람이 읽을 수 있는 이름으로 변환\n",
    "            tag_name = TAGS.get(tag_id, tag_id)\n",
    "            metadata[tag_name] = value\n",
    "    \n",
    "    return metadata"
   ]
  },
  {
   "cell_type": "code",
   "execution_count": 25,
   "id": "6b333969-54ed-4272-8cd9-3d960e04ab01",
   "metadata": {},
   "outputs": [
    {
     "name": "stdout",
     "output_type": "stream",
     "text": [
      "{'ImageWidth': 4032, 'ImageLength': 3024, 'ResolutionUnit': 2, 'ExifOffset': 225, 'Make': 'samsung', 'Model': 'SM-N960N', 'Software': 'N960NKSU3FVG4', 'Orientation': 1, 'YCbCrPositioning': 1, 'DateTime': '2024:10:16 15:26:35', 'XResolution': 72.0, 'YResolution': 72.0, 'ExifVersion': b'0220', 'ShutterSpeedValue': 5.91, 'ApertureValue': 2.52, 'DateTimeOriginal': '2024:10:16 15:26:35', 'DateTimeDigitized': '2024:10:16 15:26:35', 'BrightnessValue': 3.78, 'ExposureBiasValue': 0.0, 'MaxApertureValue': 1.16, 'MeteringMode': 2, 'Flash': 0, 'FlashPixVersion': b'0100', 'FocalLength': 4.3, 'UserComment': b'\\x00\\x00\\x00\\x00\\x00\\x00\\x00\\x00\\x00\\x00\\x00\\x00\\x00', 'ColorSpace': 1, 'ComponentsConfiguration': b'\\x01\\x02\\x03\\x00', 'ExifImageWidth': 4032, 'SubsecTime': '0639', 'SubsecTimeOriginal': '0639', 'SubsecTimeDigitized': '0639', 'ExifImageHeight': 3024, 'ExposureTime': 0.016666666666666666, 'ExifInteroperabilityOffset': 815, 'FNumber': 2.4, 'SceneType': b'\\x01\\x00\\x00\\x00', 'ImageUniqueID': 'J12LLKL00SM', 'ExposureProgram': 2, 'CustomRendered': 0, 'ISOSpeedRatings': 64, 'ExposureMode': 0, 'WhiteBalance': 0, 'DigitalZoomRatio': nan, 'FocalLengthIn35mmFilm': 26, 'SceneCaptureType': 0, 'Contrast': 0, 'Saturation': 0, 'Sharpness': 0}\n"
     ]
    }
   ],
   "source": [
    "# 필요한 정보가 무엇인지 골라보자.\n",
    "exif_data = get_image_all_metadata(image_path)\n",
    "print(exif_data)"
   ]
  },
  {
   "cell_type": "code",
   "execution_count": null,
   "id": "057289c9-2e75-442d-95b3-c6b5584df38c",
   "metadata": {},
   "outputs": [],
   "source": []
  },
  {
   "cell_type": "markdown",
   "id": "7e7ee08b-ba05-4ae4-bfae-505f7d86fce3",
   "metadata": {},
   "source": [
    "**\"GPSInfo\", \"Model\", \"DateTime\",\"ExifImageWidth\", \"ExifImageHeight\"만 사용하는 것으로 한다면**"
   ]
  },
  {
   "cell_type": "code",
   "execution_count": 26,
   "id": "e4215856-3d73-4f6e-bf4f-e9844313d600",
   "metadata": {},
   "outputs": [],
   "source": [
    "def get_selected_metadata(image_path):\n",
    "    # 이미지 파일 열기\n",
    "    image = Image.open(image_path)\n",
    "    metadata = {}\n",
    "    \n",
    "    # EXIF 데이터 추출\n",
    "    exif_data = image._getexif()\n",
    "    if exif_data:\n",
    "        # 추출할 태그 리스트\n",
    "        selected_tags = {\"GPSInfo\", \"Model\", \"DateTime\",\"ExifImageWidth\", \"ExifImageHeight\"}\n",
    "        \n",
    "        for tag_id, value in exif_data.items():\n",
    "            # 태그 ID를 사람이 읽을 수 있는 이름으로 변환\n",
    "            tag_name = TAGS.get(tag_id, tag_id)\n",
    "            if tag_name in selected_tags:\n",
    "                metadata[tag_name] = value\n",
    "    \n",
    "    return metadata\n",
    "\n",
    "\n",
    "def convert_to_degrees(value):\n",
    "    \"\"\"Convert the GPS coordinates stored in EXIF to degrees in float format\"\"\"\n",
    "    d, m, s = value\n",
    "    return d + (m / 60.0) + (s / 3600.0)\n",
    "\n",
    "def extract_lat_lon_altitude(gps_info):\n",
    "    \"\"\"Extract latitude, longitude, and altitude from GPSInfo\"\"\"\n",
    "    latitude, longitude, altitude = None, None, None\n",
    "\n",
    "    if gps_info:\n",
    "        # 위도 추출\n",
    "        lat_ref = gps_info.get(1)\n",
    "        lat = gps_info.get(2)\n",
    "        if lat and lat_ref:\n",
    "            latitude = convert_to_degrees(lat)\n",
    "            if lat_ref != \"N\":  # 남반구일 경우 음수로 변환\n",
    "                latitude = -latitude\n",
    "        \n",
    "        # 경도 추출\n",
    "        lon_ref = gps_info.get(3)\n",
    "        lon = gps_info.get(4)\n",
    "        if lon and lon_ref:\n",
    "            longitude = convert_to_degrees(lon)\n",
    "            if lon_ref != \"E\":  # 서반구일 경우 음수로 변환\n",
    "                longitude = -longitude\n",
    "        \n",
    "        # 고도 추출\n",
    "        altitude = gps_info.get(6)\n",
    "\n",
    "    return latitude, longitude, altitude\n",
    "\n",
    "def get_address_from_coordinates(lat, lon, api_key):\n",
    "    \"\"\"Use Google Maps Geocoding API to get the address from coordinates\"\"\"\n",
    "    url = f\"https://maps.googleapis.com/maps/api/geocode/json?latlng={lat},{lon}&key={api_key}\"\n",
    "    response = requests.get(url)\n",
    "    if response.status_code == 200:\n",
    "        data = response.json()\n",
    "        if data['results']:\n",
    "            return data['results'][0]['formatted_address']\n",
    "        else:\n",
    "            return \"주소를 찾을 수 없습니다.\"\n",
    "    else:\n",
    "        return \"API 요청에 실패했습니다.\"\n",
    "\n",
    "def lat_lon_to_addr(lon,lat):\n",
    "    api_key = os.environ['KAKAOMAP_API_KEY']\n",
    "    url = 'https://dapi.kakao.com/v2/local/geo/coord2regioncode.json?x={longitude}&y={latitude}'.format(longitude=lon,latitude=lat)\n",
    "    headers = {\"Authorization\": \"KakaoAK \" + api_key}\n",
    "    result = json.loads(str(requests.get(url, headers=headers).text))\n",
    "    match_first = result['documents'][0]['address_name']\n",
    "    return str(match_first)"
   ]
  },
  {
   "cell_type": "code",
   "execution_count": 27,
   "id": "4b904bf4-6d61-401a-abbc-bb9f2e2a363c",
   "metadata": {},
   "outputs": [
    {
     "name": "stdout",
     "output_type": "stream",
     "text": [
      "{'Model': 'SM-N960N', 'DateTime': '2024:10:16 15:26:35', 'ExifImageWidth': 4032, 'ExifImageHeight': 3024}\n"
     ]
    }
   ],
   "source": [
    "exif_data = get_selected_metadata(image_path)\n",
    "print(exif_data)"
   ]
  },
  {
   "cell_type": "code",
   "execution_count": 20,
   "id": "c508ca46-02a9-4625-8837-031531c721c5",
   "metadata": {},
   "outputs": [
    {
     "name": "stdout",
     "output_type": "stream",
     "text": [
      "Model : SM-N960N\n",
      "\n",
      "DateTime : 2024:10:16 15:26:35\n",
      "\n",
      "ExifImageWidth : 4032\n",
      "\n",
      "ExifImageHeight : 3024\n",
      "\n"
     ]
    }
   ],
   "source": [
    "for tag_id, value in exif_data.items():\n",
    "    print(\"{} : {}\".format(tag_id, value))\n",
    "    print()"
   ]
  },
  {
   "cell_type": "code",
   "execution_count": 29,
   "id": "42bf05aa",
   "metadata": {},
   "outputs": [
    {
     "name": "stdout",
     "output_type": "stream",
     "text": [
      "{'Model': 'SM-N960N', 'DateTime': '2024:10:16 15:26:35', 'ExifImageWidth': 4032, 'ExifImageHeight': 3024}\n"
     ]
    }
   ],
   "source": [
    "print(exif_data)"
   ]
  },
  {
   "cell_type": "code",
   "execution_count": null,
   "id": "882cccf6",
   "metadata": {},
   "outputs": [],
   "source": []
  },
  {
   "cell_type": "markdown",
   "id": "0173f00a",
   "metadata": {},
   "source": [
    "### gps 좌표 정보를 사용해서 지도상의 지명으로 출력하기"
   ]
  },
  {
   "cell_type": "code",
   "execution_count": 28,
   "id": "87cbb61d-5db3-4319-ae9c-2591f1e7e0a4",
   "metadata": {},
   "outputs": [
    {
     "ename": "KeyError",
     "evalue": "'GPSInfo'",
     "output_type": "error",
     "traceback": [
      "\u001b[1;31m---------------------------------------------------------------------------\u001b[0m",
      "\u001b[1;31mKeyError\u001b[0m                                  Traceback (most recent call last)",
      "Cell \u001b[1;32mIn[28], line 1\u001b[0m\n\u001b[1;32m----> 1\u001b[0m latitude, longitude, altitude \u001b[38;5;241m=\u001b[39m extract_lat_lon_altitude(\u001b[43mexif_data\u001b[49m\u001b[43m[\u001b[49m\u001b[38;5;124;43m'\u001b[39;49m\u001b[38;5;124;43mGPSInfo\u001b[39;49m\u001b[38;5;124;43m'\u001b[39;49m\u001b[43m]\u001b[49m)\n\u001b[0;32m      3\u001b[0m \u001b[38;5;28mprint\u001b[39m(\u001b[38;5;124m'\u001b[39m\u001b[38;5;124mlat:\u001b[39m\u001b[38;5;132;01m{}\u001b[39;00m\u001b[38;5;124m, long:\u001b[39m\u001b[38;5;132;01m{}\u001b[39;00m\u001b[38;5;124m, alt:\u001b[39m\u001b[38;5;132;01m{}\u001b[39;00m\u001b[38;5;124m'\u001b[39m\u001b[38;5;241m.\u001b[39mformat(\u001b[38;5;28mround\u001b[39m(latitude,\u001b[38;5;241m5\u001b[39m), \u001b[38;5;28mround\u001b[39m(longitude,\u001b[38;5;241m5\u001b[39m), altitude))\n\u001b[0;32m      5\u001b[0m \u001b[38;5;28;01mif\u001b[39;00m latitude \u001b[38;5;129;01mis\u001b[39;00m \u001b[38;5;129;01mnot\u001b[39;00m \u001b[38;5;28;01mNone\u001b[39;00m \u001b[38;5;129;01mand\u001b[39;00m longitude \u001b[38;5;129;01mis\u001b[39;00m \u001b[38;5;129;01mnot\u001b[39;00m \u001b[38;5;28;01mNone\u001b[39;00m:\n",
      "\u001b[1;31mKeyError\u001b[0m: 'GPSInfo'"
     ]
    }
   ],
   "source": [
    "latitude, longitude, altitude = extract_lat_lon_altitude(exif_data['GPSInfo'])\n",
    "\n",
    "print('lat:{}, long:{}, alt:{}'.format(round(latitude,5), round(longitude,5), altitude))\n",
    "\n",
    "if latitude is not None and longitude is not None:\n",
    "    addr = lat_lon_to_addr(longitude, latitude)\n",
    "    print(addr)\n",
    "else:\n",
    "    print(\"GPS 정보를 찾을 수 없습니다.\")"
   ]
  },
  {
   "cell_type": "markdown",
   "id": "c3452afe",
   "metadata": {},
   "source": []
  },
  {
   "cell_type": "code",
   "execution_count": null,
   "id": "9cb75c0a-1f36-42a9-95c0-df0a6b9a157f",
   "metadata": {},
   "outputs": [],
   "source": []
  }
 ],
 "metadata": {
  "kernelspec": {
   "display_name": "langchain",
   "language": "python",
   "name": "python3"
  },
  "language_info": {
   "codemirror_mode": {
    "name": "ipython",
    "version": 3
   },
   "file_extension": ".py",
   "mimetype": "text/x-python",
   "name": "python",
   "nbconvert_exporter": "python",
   "pygments_lexer": "ipython3",
   "version": "3.10.15"
  }
 },
 "nbformat": 4,
 "nbformat_minor": 5
}
